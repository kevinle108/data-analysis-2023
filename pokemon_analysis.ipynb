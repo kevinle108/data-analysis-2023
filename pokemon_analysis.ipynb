{
 "cells": [
  {
   "cell_type": "code",
   "execution_count": null,
   "metadata": {},
   "outputs": [],
   "source": [
    "import requests\n",
    "import json\n",
    "import os\n",
    "import pandas as pd\n"
   ]
  },
  {
   "cell_type": "markdown",
   "metadata": {},
   "source": [
    "# Data Fetching"
   ]
  },
  {
   "cell_type": "code",
   "execution_count": null,
   "metadata": {},
   "outputs": [],
   "source": [
    "# function for getting the names of all the pokemon in a generation (int)\n",
    "def get_gen_pokemon(generation):\n",
    "    response = requests.get(f\"https://pokeapi.co/api/v2/generation/{generation}\")\n",
    "    data = response.json()\n",
    "    # sort the data by their pokemon ids using the ending part of their urls\n",
    "    data[\"pokemon_species\"].sort(key=lambda x: int(x[\"url\"]\n",
    "                                 .replace(\"https://pokeapi.co/api/v2/pokemon-species/\", \"\")\n",
    "                                 .replace(\"/\", \"\")))                            \n",
    "    return data[\"pokemon_species\"]"
   ]
  },
  {
   "cell_type": "code",
   "execution_count": null,
   "metadata": {},
   "outputs": [],
   "source": [
    "# function for generating a pokemon model \n",
    "def generate_pokemon_model(generation, name, id, pokemon_data):\n",
    "    pokemon_model = {}\n",
    "    pokemon_model[\"name\"] = name\n",
    "    pokemon_model[\"id\"] = id\n",
    "    pokemon_model[\"generation\"] = generation\n",
    "    pokemon_model[\"types\"] = []\n",
    "    for type in pokemon_data[\"types\"]:\n",
    "        pokemon_model[\"types\"].append(type[\"type\"][\"name\"])\n",
    "    return pokemon_model"
   ]
  },
  {
   "cell_type": "code",
   "execution_count": null,
   "metadata": {},
   "outputs": [],
   "source": [
    "# create an empty list to store all the pokemon\n",
    "pokemon_list = []\n",
    "\n",
    "# looks like some pokemon will have broken urls, we'll save those here\n",
    "# so we can let the maintainers of pokeapi know that these routes are broken\n",
    "broken_endpoints = []"
   ]
  },
  {
   "cell_type": "code",
   "execution_count": null,
   "metadata": {},
   "outputs": [],
   "source": [
    "# now we need a function that can fetch all the generational data and use that to grab all the detailed\n",
    "# pokemon data within that generation. Along the way, when we encounter a broken\n",
    "# url, we'll note that and use a fallback endpoint to get that pokemon's dat\n",
    "def get_all_pokemon_data(gen_num):\n",
    "    generation = get_gen_pokemon(gen_num)\n",
    "\n",
    "    # loop through each pokemon in the generation\n",
    "    for pokemon in generation:\n",
    "        # get the pokemon's name\n",
    "        name = pokemon[\"name\"]\n",
    "        url = f\"https://pokeapi.co/api/v2/pokemon/{name}\"\n",
    "        # get the url for the pokemon's data\n",
    "        response = requests.get(url)\n",
    "        try:\n",
    "            pokemon_data = response.json()\n",
    "        except requests.exceptions.JSONDecodeError as e:\n",
    "            pokemon_id = pokemon[\"url\"].replace(\"https://pokeapi.co/api/v2/pokemon-species/\", \"\").replace(\"/\", \"\")            \n",
    "            fallback_url = f\"https://pokeapi.co/api/v2/pokemon/{pokemon_id}\"\n",
    "            response = requests.get(fallback_url)        \n",
    "            pokemon_data = response.json()\n",
    "            broken_endpoints.append(\n",
    "                {\n",
    "                    \"name\": name,\n",
    "                    \"generation\": gen_num,\n",
    "                    \"broken_url\": url,\n",
    "                    \"fallback_url\": fallback_url,                    \n",
    "                }\n",
    "            )\n",
    "        finally:\n",
    "            pokemon_id_number = pokemon_data[\"id\"]\n",
    "            pokemon_model = generate_pokemon_model(gen_num, name, pokemon_id_number, pokemon_data) \n",
    "            pokemon_list.append(pokemon_model)\n",
    "    print(f\"Done fetching all {len(generation)} pokemon data for Generation {gen_num}\")    "
   ]
  },
  {
   "cell_type": "code",
   "execution_count": null,
   "metadata": {},
   "outputs": [],
   "source": [
    "# now we can combine all the functions together to get all the \n",
    "# pokemon data for every generation\n",
    "for gen_num in range(1,10):\n",
    "    get_all_pokemon_data(gen_num)"
   ]
  },
  {
   "cell_type": "code",
   "execution_count": null,
   "metadata": {},
   "outputs": [],
   "source": [
    "# view pokemon_list to make sure it has all 1017 pokemon\n",
    "print(len(pokemon_list))\n",
    "pokemon_list_df = pd.DataFrame.from_dict(pokemon_list)\n",
    "print(pokemon_list_df.to_markdown())"
   ]
  },
  {
   "cell_type": "code",
   "execution_count": null,
   "metadata": {},
   "outputs": [],
   "source": [
    "# let's view how many broken routes we found\n",
    "print(len(broken_endpoints))\n",
    "broken_endpoints_df = pd.DataFrame.from_dict(broken_endpoints)\n",
    "print(broken_endpoints_df.to_markdown())"
   ]
  },
  {
   "cell_type": "code",
   "execution_count": null,
   "metadata": {},
   "outputs": [],
   "source": [
    "# save the pokemon_list and broken_routes as json files\n",
    "with open(f\"./data/pokemon_list.json\", \"w\") as f:\n",
    "    json.dump(pokemon_list, f, indent=4)\n",
    "\n",
    "with open(f\"./data/broken_endpoints.json\", \"w\") as f:\n",
    "    json.dump(broken_endpoints, f, indent=4)    "
   ]
  },
  {
   "cell_type": "markdown",
   "metadata": {},
   "source": [
    "# Data Clean-Up"
   ]
  },
  {
   "cell_type": "code",
   "execution_count": null,
   "metadata": {},
   "outputs": [],
   "source": [
    "# let's open our pokemon_list.json and turn it into a pandas dataframe\n",
    "with open('./data/pokemon_list.json', 'r') as f:\n",
    "        all_pokemon_dict = json.load(f)\n",
    "all_pokemon_df = pd.read_json('./data/pokemon_list.json')\n",
    "all_pokemon_df"
   ]
  },
  {
   "cell_type": "code",
   "execution_count": null,
   "metadata": {},
   "outputs": [],
   "source": [
    "# looking at our column types, we can see that the data in the \"types\" column\n",
    "# is an object representing an array of types (since some pokemon only have one type,\n",
    "# while others have two types) \n",
    "all_pokemon_df.dtypes"
   ]
  },
  {
   "cell_type": "code",
   "execution_count": null,
   "metadata": {},
   "outputs": [],
   "source": [
    "# having a array as a column isn't ideal for the type of analysis we want to do later\n",
    "# so let's try to normalize the types data from an array into 'type 1' and 'type 2'\n",
    "# we'll build a function that can help us\n",
    "def normalize_pokemon_model(pokemon):\n",
    "    name = pokemon['name']\n",
    "    id = pokemon['id']\n",
    "    generation = pokemon['generation']\n",
    "    type1 = pokemon['types'][0]\n",
    "    type2 = \"\"\n",
    "    if len(pokemon['types']) > 1:\n",
    "        type2 = pokemon['types'][1]\n",
    "    model = { \n",
    "        'name': name, \n",
    "        'id': id, \n",
    "        'generation': generation, \n",
    "        'type1': type1, \n",
    "        'type2': type2\n",
    "    }\n",
    "    return model"
   ]
  },
  {
   "cell_type": "code",
   "execution_count": null,
   "metadata": {},
   "outputs": [],
   "source": [
    "# now let's use our function with our original json dict to normalize the types\n",
    "# using list comprehension, this can be accomplished in 1 line!\n",
    "normalized = [normalize_pokemon_model(pokemon) for pokemon in all_pokemon_dict]"
   ]
  },
  {
   "cell_type": "code",
   "execution_count": null,
   "metadata": {},
   "outputs": [],
   "source": [
    "all_pokemon_df = pd.DataFrame.from_dict(normalized)\n",
    "# now our dataframe should have \"type1\" & \"type2\" columns instead of the \"types\" column\n",
    "all_pokemon_df"
   ]
  },
  {
   "cell_type": "code",
   "execution_count": null,
   "metadata": {},
   "outputs": [],
   "source": [
    "# let's also turn our broken_endpoints json into a dataframe\n",
    "broken_endpoints_df = pd.read_json('./data/broken_endpoints.json')\n",
    "broken_endpoints_df"
   ]
  },
  {
   "cell_type": "code",
   "execution_count": null,
   "metadata": {},
   "outputs": [],
   "source": [
    "# we eventually want to combine the broken_endpoints data to the all_pokemon data\n",
    "# but first we'll need to clean up the broken_endpoints table \n",
    "broken_endpoints_df_cleaned = broken_endpoints_df.drop(\n",
    "    ['generation', 'broken_url'], axis=1\n",
    ")\n",
    "broken_endpoints_df_cleaned"
   ]
  },
  {
   "cell_type": "code",
   "execution_count": null,
   "metadata": {},
   "outputs": [],
   "source": [
    "# now we can merge the two dataframes together using the pokemon name\n",
    "merged_all_pokemon = all_pokemon_df.merge(broken_endpoints_df_cleaned, how=\"left\", on=\"name\")\n",
    "merged_all_pokemon"
   ]
  },
  {
   "cell_type": "code",
   "execution_count": null,
   "metadata": {},
   "outputs": [],
   "source": [
    "# we can check that the broken links data merged correctly by ensuring \n",
    "# validating that there are 28 non-NaN records in the dataframe\n",
    "len(merged_all_pokemon.dropna())"
   ]
  },
  {
   "cell_type": "code",
   "execution_count": null,
   "metadata": {},
   "outputs": [],
   "source": [
    "# now we should correct all the NaN urls \n",
    "for index, pokemon in merged_all_pokemon.iterrows():\n",
    "    if pd.isnull(pokemon['fallback_url']):\n",
    "        merged_all_pokemon.set_value(index, 'fallback_url', f\"https://pokeapi.co/api/v2/pokemon/{pokemon['name']}\")\n",
    "merged_all_pokemon\n",
    "        "
   ]
  }
 ],
 "metadata": {
  "kernelspec": {
   "display_name": "venv",
   "language": "python",
   "name": "python3"
  },
  "language_info": {
   "codemirror_mode": {
    "name": "ipython",
    "version": 3
   },
   "file_extension": ".py",
   "mimetype": "text/x-python",
   "name": "python",
   "nbconvert_exporter": "python",
   "pygments_lexer": "ipython3",
   "version": "3.12.0"
  }
 },
 "nbformat": 4,
 "nbformat_minor": 2
}
